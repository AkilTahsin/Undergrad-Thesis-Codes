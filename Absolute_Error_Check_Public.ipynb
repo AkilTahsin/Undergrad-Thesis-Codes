{
  "nbformat": 4,
  "nbformat_minor": 0,
  "metadata": {
    "colab": {
      "name": "Absolute_Error_Check_Public.ipynb",
      "provenance": [],
      "collapsed_sections": []
    },
    "kernelspec": {
      "name": "python3",
      "display_name": "Python 3"
    },
    "language_info": {
      "name": "python"
    }
  },
  "cells": [
    {
      "cell_type": "code",
      "metadata": {
        "colab": {
          "base_uri": "https://localhost:8080/"
        },
        "id": "_4ePvdHnhlMZ",
        "outputId": "ed126b48-2888-4e4b-c95c-975686174aa9"
      },
      "source": [
        "from google.colab import drive\n",
        "drive.mount(\"/content/gdrive\")"
      ],
      "execution_count": 61,
      "outputs": [
        {
          "output_type": "stream",
          "text": [
            "Drive already mounted at /content/gdrive; to attempt to forcibly remount, call drive.mount(\"/content/gdrive\", force_remount=True).\n"
          ],
          "name": "stdout"
        }
      ]
    },
    {
      "cell_type": "code",
      "metadata": {
        "id": "s2OSWyAzhzAG"
      },
      "source": [
        "import numpy as np \n",
        "import pandas as pd \n",
        "import seaborn as sns \n",
        "import matplotlib.pyplot as plt \n",
        "from sklearn.model_selection import train_test_split\n",
        "from sklearn.linear_model import LogisticRegression \n",
        "from sklearn.ensemble import RandomForestRegressor\n",
        "from sklearn.neighbors import KNeighborsRegressor\n",
        "from sklearn import metrics\n",
        "from sklearn import datasets\n",
        "import seaborn as sns\n",
        "\n",
        "%matplotlib inline"
      ],
      "execution_count": 79,
      "outputs": []
    },
    {
      "cell_type": "code",
      "metadata": {
        "id": "_39Vnszehz8m"
      },
      "source": [
        "public_df = pd.read_csv('/content/gdrive/My Drive/DATASET_THESIS_UNDERGRAD/PUBLIC_PRIVATE_DATA_SPLIT_PUBLIC_RF.csv')\n",
        "private_df = pd.read_csv('/content/gdrive/My Drive/DATASET_THESIS_UNDERGRAD/PUBLIC_PRIVATE_DATA_SPLIT_PRIVATE_RF.csv')"
      ],
      "execution_count": 63,
      "outputs": []
    },
    {
      "cell_type": "code",
      "metadata": {
        "id": "Zk9p3xHliECl"
      },
      "source": [
        "x = public_df.iloc[:, 1:].values\n",
        "y = public_df.iloc[:, 0].values"
      ],
      "execution_count": 64,
      "outputs": []
    },
    {
      "cell_type": "code",
      "metadata": {
        "id": "cxp_IqZ6iSsm"
      },
      "source": [
        "X_train, X_test, y_train, y_test = train_test_split(x,y,test_size=1/3, random_state=0)"
      ],
      "execution_count": 65,
      "outputs": []
    },
    {
      "cell_type": "code",
      "metadata": {
        "id": "4woxUsdXiYJ1"
      },
      "source": [
        "model = LogisticRegression()\n",
        "model.fit(X_train, y_train)"
      ],
      "execution_count": null,
      "outputs": []
    },
    {
      "cell_type": "code",
      "metadata": {
        "id": "YY3CePcUiZ5W"
      },
      "source": [
        "y_predicted = model.predict(X_test)"
      ],
      "execution_count": 91,
      "outputs": []
    },
    {
      "cell_type": "code",
      "metadata": {
        "colab": {
          "base_uri": "https://localhost:8080/",
          "height": 279
        },
        "id": "H0OJop85ibq2",
        "outputId": "027510c2-7521-4ad4-86e5-1617f9699a7a"
      },
      "source": [
        "fig, ax = plt.subplots()\n",
        "ax.scatter(y_predicted, y_test, edgecolors=(0, 0, 1))\n",
        "ax.plot([y_test.min(), y_test.max()], [y_test.min(), y_test.max()], 'r--', lw=3)\n",
        "ax.set_xlabel('Predicted')\n",
        "ax.set_ylabel('Actual')\n",
        "plt.show()"
      ],
      "execution_count": 90,
      "outputs": [
        {
          "output_type": "display_data",
          "data": {
            "image/png": "[encoded data removed]",
            "text/plain": [
              "<Figure size 432x288 with 1 Axes>"
            ]
          },
          "metadata": {
            "tags": [],
            "needs_background": "light"
          }
        }
      ]
    },
    {
      "cell_type": "code",
      "metadata": {
        "colab": {
          "base_uri": "https://localhost:8080/"
        },
        "id": "eQgaZeDlihHe",
        "outputId": "7c0b63c4-256e-4458-d72b-1a2cf8e68d04"
      },
      "source": [
        "# model evaluation for testing set\n",
        "\n",
        "mae = metrics.mean_absolute_error(y_test, y_predicted)\n",
        "mse = metrics.mean_squared_error(y_test, y_predicted)\n",
        "r2 = metrics.r2_score(y_test, y_predicted)\n",
        "\n",
        "print(\"LogisticRegression model performance for testing set\")\n",
        "print(\"--------------------------------------\")\n",
        "print('MAE is {}'.format(mae))\n",
        "print('MSE is {}'.format(mse))\n",
        "print('R2 score is {}'.format(r2))"
      ],
      "execution_count": 69,
      "outputs": [
        {
          "output_type": "stream",
          "text": [
            "LogisticRegression model performance for testing set\n",
            "--------------------------------------\n",
            "MAE is 0.48011363636363635\n",
            "MSE is 0.78125\n",
            "R2 score is 0.36893710232606647\n"
          ],
          "name": "stdout"
        }
      ]
    },
    {
      "cell_type": "code",
      "metadata": {
        "colab": {
          "base_uri": "https://localhost:8080/"
        },
        "id": "wHhEZfLai5yG",
        "outputId": "756f2905-ff80-47c9-f0f4-d94423da0bbd"
      },
      "source": [
        "model2 = RandomForestRegressor()\n",
        "model2.fit(X_train, y_train)"
      ],
      "execution_count": 70,
      "outputs": [
        {
          "output_type": "execute_result",
          "data": {
            "text/plain": [
              "RandomForestRegressor(bootstrap=True, ccp_alpha=0.0, criterion='mse',\n",
              "                      max_depth=None, max_features='auto', max_leaf_nodes=None,\n",
              "                      max_samples=None, min_impurity_decrease=0.0,\n",
              "                      min_impurity_split=None, min_samples_leaf=1,\n",
              "                      min_samples_split=2, min_weight_fraction_leaf=0.0,\n",
              "                      n_estimators=100, n_jobs=None, oob_score=False,\n",
              "                      random_state=None, verbose=0, warm_start=False)"
            ]
          },
          "metadata": {
            "tags": []
          },
          "execution_count": 70
        }
      ]
    },
    {
      "cell_type": "code",
      "metadata": {
        "id": "S0cvYFkjjGse"
      },
      "source": [
        "y_predicted = model2.predict(X_test)"
      ],
      "execution_count": 71,
      "outputs": []
    },
    {
      "cell_type": "code",
      "metadata": {
        "colab": {
          "base_uri": "https://localhost:8080/",
          "height": 279
        },
        "id": "llEvvKHUjIWm",
        "outputId": "b9e8ef81-e9f2-4d7a-cb05-8e64610a51bc"
      },
      "source": [
        "fig, ax = plt.subplots()\n",
        "ax.scatter(y_predicted, y_test, edgecolors=(0, 0, 1))\n",
        "ax.plot([y_test.min(), y_test.max()], [y_test.min(), y_test.max()], 'r--', lw=3)\n",
        "ax.set_xlabel('Predicted')\n",
        "ax.set_ylabel('Actual')\n",
        "plt.show()"
      ],
      "execution_count": 72,
      "outputs": [
        {
          "output_type": "display_data",
          "data": {
            "image/png": "[encoded data removed]",
            "text/plain": [
              "<Figure size 432x288 with 1 Axes>"
            ]
          },
          "metadata": {
            "tags": [],
            "needs_background": "light"
          }
        }
      ]
    },
    {
      "cell_type": "code",
      "metadata": {
        "colab": {
          "base_uri": "https://localhost:8080/"
        },
        "id": "eQLkuvswjLXO",
        "outputId": "eaa61ed8-3aef-4e4f-dfe7-0a92cdeb1e84"
      },
      "source": [
        "# model evaluation for testing set\n",
        "\n",
        "mae = metrics.mean_absolute_error(y_test, y_predicted)\n",
        "mse = metrics.mean_squared_error(y_test, y_predicted)\n",
        "r2 = metrics.r2_score(y_test, y_predicted)\n",
        "\n",
        "print(\"RandomForestRegressor model performance for testing set\")\n",
        "print(\"--------------------------------------\")\n",
        "print('MAE is {}'.format(mae))\n",
        "print('MSE is {}'.format(mse))\n",
        "print('R2 score is {}'.format(r2))"
      ],
      "execution_count": 73,
      "outputs": [
        {
          "output_type": "stream",
          "text": [
            "RandomForestRegressor model performance for testing set\n",
            "--------------------------------------\n",
            "MAE is 0.3311710633116883\n",
            "MSE is 0.3486711758029916\n",
            "R2 score is 0.7183571935518549\n"
          ],
          "name": "stdout"
        }
      ]
    },
    {
      "cell_type": "code",
      "metadata": {
        "colab": {
          "base_uri": "https://localhost:8080/"
        },
        "id": "9_Ibc58lj7Rv",
        "outputId": "75d8f67d-f828-48f1-d201-61fed367db24"
      },
      "source": [
        "model3 = KNeighborsRegressor()\n",
        "model3.fit(X_train, y_train)"
      ],
      "execution_count": 74,
      "outputs": [
        {
          "output_type": "execute_result",
          "data": {
            "text/plain": [
              "KNeighborsRegressor(algorithm='auto', leaf_size=30, metric='minkowski',\n",
              "                    metric_params=None, n_jobs=None, n_neighbors=5, p=2,\n",
              "                    weights='uniform')"
            ]
          },
          "metadata": {
            "tags": []
          },
          "execution_count": 74
        }
      ]
    },
    {
      "cell_type": "code",
      "metadata": {
        "id": "3A54-VbWj_M-"
      },
      "source": [
        "y_predicted = model3.predict(X_test)"
      ],
      "execution_count": 75,
      "outputs": []
    },
    {
      "cell_type": "code",
      "metadata": {
        "colab": {
          "base_uri": "https://localhost:8080/",
          "height": 279
        },
        "id": "LUKy72qfkI_u",
        "outputId": "b5df5891-e8e8-46c2-c720-0a811b0a156d"
      },
      "source": [
        "fig, ax = plt.subplots()\n",
        "ax.scatter(y_predicted, y_test, edgecolors=(0, 0, 1))\n",
        "ax.plot([y_test.min(), y_test.max()], [y_test.min(), y_test.max()], 'r--', lw=3)\n",
        "ax.set_xlabel('Predicted')\n",
        "ax.set_ylabel('Actual')\n",
        "plt.show()"
      ],
      "execution_count": 76,
      "outputs": [
        {
          "output_type": "display_data",
          "data": {
            "image/png": "[encoded data removed]",
            "text/plain": [
              "<Figure size 432x288 with 1 Axes>"
            ]
          },
          "metadata": {
            "tags": [],
            "needs_background": "light"
          }
        }
      ]
    },
    {
      "cell_type": "code",
      "metadata": {
        "colab": {
          "base_uri": "https://localhost:8080/"
        },
        "id": "1lNV48FDkAPu",
        "outputId": "35168a5d-1787-40d2-ff3b-169f1d40b18e"
      },
      "source": [
        "# model evaluation for testing set\n",
        "\n",
        "mae = metrics.mean_absolute_error(y_test, y_predicted)\n",
        "mse = metrics.mean_squared_error(y_test, y_predicted)\n",
        "r2 = metrics.r2_score(y_test, y_predicted)\n",
        "\n",
        "print(\"KNeighborsRegressor model performance for testing set\")\n",
        "print(\"--------------------------------------\")\n",
        "print('MAE is {}'.format(mae))\n",
        "print('MSE is {}'.format(mse))\n",
        "print('R2 score is {}'.format(r2))"
      ],
      "execution_count": 77,
      "outputs": [
        {
          "output_type": "stream",
          "text": [
            "KNeighborsRegressor model performance for testing set\n",
            "--------------------------------------\n",
            "MAE is 0.36590909090909085\n",
            "MSE is 0.3836363636363636\n",
            "R2 score is 0.6901136956294982\n"
          ],
          "name": "stdout"
        }
      ]
    },
    {
      "cell_type": "code",
      "metadata": {
        "colab": {
          "base_uri": "https://localhost:8080/",
          "height": 142
        },
        "id": "LadoLDmem_Te",
        "outputId": "f274f708-d4e3-4b57-f712-3b953c4f3082"
      },
      "source": [
        "data = [['LR', 0.48011363636363635, 0.78125, 0.36893710232606647], ['RF', 0.3311710633116883, 0.3311710633116883, 0.7183571935518549], ['KNN', 0.36590909090909085, 0.3836363636363636, 0.6901136956294982]]\n",
        "df = pd.DataFrame(data, columns = ['Model', 'MAE', 'MSE', 'R2 Score'])\n",
        " \n",
        "df"
      ],
      "execution_count": 86,
      "outputs": [
        {
          "output_type": "execute_result",
          "data": {
            "text/html": [
              "<div>\n",
              "<style scoped>\n",
              "    .dataframe tbody tr th:only-of-type {\n",
              "        vertical-align: middle;\n",
              "    }\n",
              "\n",
              "    .dataframe tbody tr th {\n",
              "        vertical-align: top;\n",
              "    }\n",
              "\n",
              "    .dataframe thead th {\n",
              "        text-align: right;\n",
              "    }\n",
              "</style>\n",
              "<table border=\"1\" class=\"dataframe\">\n",
              "  <thead>\n",
              "    <tr style=\"text-align: right;\">\n",
              "      <th></th>\n",
              "      <th>Model</th>\n",
              "      <th>MAE</th>\n",
              "      <th>MSE</th>\n",
              "      <th>R2 Score</th>\n",
              "    </tr>\n",
              "  </thead>\n",
              "  <tbody>\n",
              "    <tr>\n",
              "      <th>0</th>\n",
              "      <td>LR</td>\n",
              "      <td>0.480114</td>\n",
              "      <td>0.781250</td>\n",
              "      <td>0.368937</td>\n",
              "    </tr>\n",
              "    <tr>\n",
              "      <th>1</th>\n",
              "      <td>RF</td>\n",
              "      <td>0.331171</td>\n",
              "      <td>0.331171</td>\n",
              "      <td>0.718357</td>\n",
              "    </tr>\n",
              "    <tr>\n",
              "      <th>2</th>\n",
              "      <td>KNN</td>\n",
              "      <td>0.365909</td>\n",
              "      <td>0.383636</td>\n",
              "      <td>0.690114</td>\n",
              "    </tr>\n",
              "  </tbody>\n",
              "</table>\n",
              "</div>"
            ],
            "text/plain": [
              "  Model       MAE       MSE  R2 Score\n",
              "0    LR  0.480114  0.781250  0.368937\n",
              "1    RF  0.331171  0.331171  0.718357\n",
              "2   KNN  0.365909  0.383636  0.690114"
            ]
          },
          "metadata": {
            "tags": []
          },
          "execution_count": 86
        }
      ]
    },
    {
      "cell_type": "code",
      "metadata": {
        "colab": {
          "base_uri": "https://localhost:8080/",
          "height": 299
        },
        "id": "ljmKdPa5mCPP",
        "outputId": "c40c926d-6647-4962-da1c-d18195ee896c"
      },
      "source": [
        "sns.barplot(x=\"Model\", y=\"MAE\", data=df)"
      ],
      "execution_count": 87,
      "outputs": [
        {
          "output_type": "execute_result",
          "data": {
            "text/plain": [
              "<matplotlib.axes._subplots.AxesSubplot at 0x7fb07b2cfc50>"
            ]
          },
          "metadata": {
            "tags": []
          },
          "execution_count": 87
        },
        {
          "output_type": "display_data",
          "data": {
            "image/png": "[encoded data removed]",
            "text/plain": [
              "<Figure size 432x288 with 1 Axes>"
            ]
          },
          "metadata": {
            "tags": [],
            "needs_background": "light"
          }
        }
      ]
    },
    {
      "cell_type": "code",
      "metadata": {
        "colab": {
          "base_uri": "https://localhost:8080/",
          "height": 296
        },
        "id": "gf_XPgz_nOaO",
        "outputId": "a23c61f2-6876-494c-c2b1-53233d1b788f"
      },
      "source": [
        "sns.barplot(x=\"Model\", y=\"MSE\", data=df)"
      ],
      "execution_count": 88,
      "outputs": [
        {
          "output_type": "execute_result",
          "data": {
            "text/plain": [
              "<matplotlib.axes._subplots.AxesSubplot at 0x7fb07b38a050>"
            ]
          },
          "metadata": {
            "tags": []
          },
          "execution_count": 88
        },
        {
          "output_type": "display_data",
          "data": {
            "image/png": "[encoded data removed]",
            "text/plain": [
              "<Figure size 432x288 with 1 Axes>"
            ]
          },
          "metadata": {
            "tags": [],
            "needs_background": "light"
          }
        }
      ]
    },
    {
      "cell_type": "code",
      "metadata": {
        "colab": {
          "base_uri": "https://localhost:8080/",
          "height": 296
        },
        "id": "LqvTaFu5nQAO",
        "outputId": "d19be10d-2fda-4778-ba07-f5780e4530d4"
      },
      "source": [
        "sns.barplot(x=\"Model\", y=\"R2 Score\", data=df)"
      ],
      "execution_count": 89,
      "outputs": [
        {
          "output_type": "execute_result",
          "data": {
            "text/plain": [
              "<matplotlib.axes._subplots.AxesSubplot at 0x7fb07b574c90>"
            ]
          },
          "metadata": {
            "tags": []
          },
          "execution_count": 89
        },
        {
          "output_type": "display_data",
          "data": {
            "image/png": "[encoded data removed]",
            "text/plain": [
              "<Figure size 432x288 with 1 Axes>"
            ]
          },
          "metadata": {
            "tags": [],
            "needs_background": "light"
          }
        }
      ]
    }
  ]
}